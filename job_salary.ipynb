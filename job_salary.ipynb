{
 "metadata": {
  "name": "job_salary"
 },
 "nbformat": 3,
 "nbformat_minor": 0,
 "worksheets": [
  {
   "cells": [
    {
     "cell_type": "code",
     "collapsed": false,
     "input": [
      "from continuize_feature import *\n",
      "from word_feature_enhance import *"
     ],
     "language": "python",
     "metadata": {},
     "outputs": [],
     "prompt_number": 3
    },
    {
     "cell_type": "code",
     "collapsed": false,
     "input": [
      "train = pd.read_csv(\"mini_Train_rev1.csv\")\n",
      "valid = pd.read_csv(\"Valid_rev1.csv\")\n",
      "\n",
      "title_words = count_words_in_column(train, \"Title\")\n",
      "for word, count in title_words.items():\n",
      "    add_appearance_count_feature(train, word, \"Title\")\n",
      "    add_appearance_count_feature(valid, word, \"Title\")\n",
      "\n",
      "\n",
      "    \n"
     ],
     "language": "python",
     "metadata": {},
     "outputs": [],
     "prompt_number": 4
    },
    {
     "cell_type": "code",
     "collapsed": false,
     "input": [
      "group_features = [\"LocationNormalized\", \"Category\", \"Company\", \"SourceName\"]\n",
      "           \n",
      "for f in group_features:\n",
      "    continuize_feature(train, valid, f, \"SalaryNormalized\")"
     ],
     "language": "python",
     "metadata": {},
     "outputs": [],
     "prompt_number": 6
    },
    {
     "cell_type": "code",
     "collapsed": false,
     "input": [
      "with open('enhanced_mini_train.csv','wb') as f:\n",
      "    train.to_csv(f)\n",
      "\n",
      "with open('enhanced_valid.csv','wb') as f:\n",
      "    valid.to_csv(f)"
     ],
     "language": "python",
     "metadata": {},
     "outputs": []
    },
    {
     "cell_type": "code",
     "collapsed": false,
     "input": [
      "from sklearn.ensemble import RandomForestRegressor"
     ],
     "language": "python",
     "metadata": {},
     "outputs": [],
     "prompt_number": 7
    },
    {
     "cell_type": "code",
     "collapsed": false,
     "input": [
      "rf = RandomForestRegressor()"
     ],
     "language": "python",
     "metadata": {},
     "outputs": [],
     "prompt_number": 8
    },
    {
     "cell_type": "code",
     "collapsed": false,
     "input": [
      "train.columns"
     ],
     "language": "python",
     "metadata": {},
     "outputs": [
      {
       "output_type": "pyout",
       "prompt_number": 9,
       "text": [
        "Index([Id, Title, FullDescription, LocationRaw, LocationNormalized, ContractType, ContractTime, Company, Category, SalaryRaw, SalaryNormalized, SourceName, Title_has_shop, Title_has_chinese, Title_has_sales, Title_has_facilities, Title_has_manager, Title_has_nursery, Title_has_gb, Title_has_ror, Title_has_pts, Title_has_disability, Title_has_foster, Title_has_teaching, Title_has_woman, Title_has_risk, Title_has_presales, Title_has_regional, Title_has_vere, Title_has_voip, Title_has_wakefield, Title_has_p, Title_has_planning, Title_has_excellence, Title_has_team, Title_has_manchester, Title_has_obesity, Title_has_ict, Title_has_logistics, Title_has_walsall, Title_has_waking, Title_has_chef, Title_has_recruitment, Title_has_negotiator, Title_has_design, Title_has_lawyer, Title_has_assembly, Title_has_dynamics, Title_has_investment, Title_has_bluc, Title_has_specification, Title_has_cirencester, Title_has_scaffolder, Title_has_ssis, Title_has_toolpusher, Title_has_capital, Title_has_new, Title_has_nurse, Title_has_staff, Title_has_multinational, Title_has_specialist, Title_has_full, Title_has_ms, Title_has_hempstead, Title_has_clerk, Title_has_commercial, Title_has_french, Title_has_water, Title_has_conveyancer, Title_has_protection, Title_has_leeds, Title_has_cork, Title_has_teacher, Title_has_technical, Title_has_shift, Title_has_k, Title_has_35, Title_has_credit, Title_has_products, Title_has_christchurch, Title_has_social, Title_has_welder, Title_has_exeter, Title_has_trainer, Title_has_gastro, Title_has_secure, Title_has_deputy, Title_has_rtos, Title_has_lending, Title_has_unix, Title_has_watford, Title_has_trained, Title_has_trainee, Title_has_market, Title_has_hotels, Title_has_wanted, Title_has_from, Title_has_marketers, Title_has_hospital, Title_has_governance, Title_has_perl, Title_has_live, Title_has_6, Title_has_assessor, Title_has_revolutionary, Title_has_curriculum, Title_has_award, Title_has_it, Title_has_admissions, Title_has_department, Title_has_labourer, Title_has_adult, Title_has_excellent, Title_has_underwriter, Title_has_maunfacturing, Title_has_customer, Title_has_account, Title_has_car, Title_has_work, Title_has_mi, Title_has_flagship, Title_has_sous, Title_has_mechanic, Title_has_keynes, Title_has_history, Title_has_patrol, Title_has_nursing, Title_has_estate, Title_has_process, Title_has_expanding, Title_has_household, Title_has_optician, Title_has_high, Title_has_surveyor, Title_has_sharp, Title_has_swedish, Title_has_end, Title_has_travel, Title_has_sharepoint, Title_has_hampshire, Title_has_chemical, Title_has_css, Title_has_stock, Title_has_edinburgh, Title_has_administrator, Title_has_designer, Title_has_pqe, Title_has_hemel, Title_has_pigs, Title_has_data, Title_has_fm, Title_has_a, Title_has_tutor, Title_has_commodity, Title_has_think, Title_has_chief, Title_has_writing, Title_has_operations, Title_has_over, Title_has_trade, Title_has_scientist, Title_has_london, Title_has_committee, Title_has_installer, Title_has_doncaster, Title_has_operative, Title_has_developer, Title_has_epos, Title_has_position, Title_has_rosette, Title_has_wrexham, Title_has_winning, Title_has_production, Title_has_systems, Title_has_policy, Title_has_finance, Title_has_practice, Title_has_noc, Title_has_band, Title_has_qualified, Title_has_front, Title_has_bank, Title_has_articles, Title_has_wirral, Title_has_drop, Title_has_hepatology, Title_has_financial, Title_has_weight, Title_has_ee, Title_has_house, Title_has_energy, Title_has_hard, Title_has_croydon, Title_has_trading, Title_has_year, Title_has_eu, Title_has_practitioner, Title_has_ew, Title_has_event, Title_has_category, Title_has_network, Title_has_electronic, Title_has_dsp, Title_has_research, Title_has_content, Title_has_holborn, Title_has_fte, Title_has_hill, Title_has_sme, Title_has_engineer, Title_has_integrated, Title_has_assurance, Title_has_hibernate, Title_has_ios, Title_has_payroll, Title_has_pub, Title_has_ajax, Title_has_advisor, Title_has_dorset, Title_has_marine, Title_has_care, Title_has_onsite, Title_has_benefits, Title_has_waiter, Title_has_atm, Title_has_days, Title_has_mvc, Title_has_ltd, Title_has_retail, Title_has_support, Title_has_south, Title_has_industrial, Title_has_shopper, Title_has_lightmid, Title_has_quality, Title_has_ecommerce, Title_has_londonsql, Title_has_management, Title_has_service, Title_has_rails, Title_has_2, Title_has_white, Title_has_scheme, Title_has_speaking, Title_has_solicitor, Title_has_part, Title_has_western, Title_has_milton, Title_has_older, Title_has_project, Title_has_matter, Title_has_architect, Title_has_store, Title_has_acquisition, Title_has_aspnet, Title_has_and, Title_has_physiotherapist, Title_has_fashion, Title_has_legionella, Title_has_receptionist, Title_has_speakers, Title_has_nights, Title_has_procurement, Title_has_hgv, Title_has_agency, Title_has_scotland, Title_has_mid, Title_has_reconciliations, Title_has_ricoh, Title_has_luxury, Title_has_online, Title_has_experienced, Title_has_roadside, Title_has_net, Title_has_services, Title_has_cleared, Title_has_class, Title_has_salary, Title_has_plumber, Title_has_mobile, Title_has_medical, Title_has_psychology, Title_has_mri, Title_has_enterprise, Title_has_senior, Title_has_derbyshire, Title_has_quantity, Title_has_sector, Title_has_emerging, Title_has_german, Title_has_vacancy, Title_has_comany, Title_has_therapist, Title_has_postdoctoral, Title_has_solutions, Title_has_networks, Title_has_setter, Title_has_litigation, Title_has_implementation, Title_has_controls, Title_has_analyst, Title_has_equity, Title_has_contracts, Title_has_assistant, Title_has_de, Title_has_multiskilled, Title_has_dv, Title_has_buckinghamshire, Title_has_tips, Title_has_bau, Title_has_embedded, Title_has_uncapped, Title_has_partie, Title_has_experience, Title_has_x, Title_has_intelligence, Title_has_national, Title_has_inhouse, Title_has_brasserie, Title_has_tankered, Title_has_best, Title_has_techniques, Title_has_michelin, Title_has_expert, Title_has_rail, Title_has_assistants, Title_has_occupational, Title_has_reading, Title_has_glasgow, Title_has_available, Title_has_datacentre, Title_has_jobs, Title_has_dispensing, Title_has_physicist, Title_has_job, Title_has_tooling, Title_has_key, Title_has_article, Title_has_hours, Title_has_c, Title_has_planner, Title_has_restaurant, Title_has_admin, Title_has_region, Title_has_contract, Title_has_s, Title_has_bristol, Title_has_operating, Title_has_allowance, Title_has_station, Title_has_co, Title_has_fostering, Title_has_community, Title_has_2nd, Title_has_hygiene, Title_has_learning, Title_has_groundworker, Title_has_yorkshire, Title_has_cw, Title_has_swindon, Title_has_pr, Title_has_bathroom, Title_has_java, Title_has_west, Title_has_strategy, Title_has_commission, Title_has_workshop, Title_has_maintenance, Title_has_basic, Title_has_screener, Title_has_territory, Title_has_website, Title_has_liverpool, Title_has_worker, Title_has_ote, Title_has_catering, Title_has_tractortrailer, Title_has_controller, Title_has_representative, Title_has_child, Title_has_fmcg, Title_has_ruby, Title_has_volunteer, Title_has_multi, Title_has_consultant, Title_has_mpls, Title_has_engineers, Title_has_ip, Title_has_is, Title_has_site, Title_has_maidstone, Title_has_in, Title_has_partner, Title_has_arabic, Title_has_technology, Title_has_cuisine, Title_has_basildon, Title_has_parte, Title_has_media, Title_has_administration, Title_has_member, Title_has_html, Title_has_events, Title_has_development, Title_has_independent, Title_has_temporary, Title_has_juniper, Title_has_reporting, Title_has_driver, Title_has_automation, Title_has_director, Title_has_ccip, Title_has_user, Title_has_camberwell, Title_has_php, Title_has_tsql, Title_has_audit, Title_has_peterborough, Title_has_framework, Title_has_person, Title_has_nordic, Title_has_guernsey, Title_has_english, Title_has_entry, Title_has_the, Title_has_blandford, Title_has_corporate, Title_has_cdp, Title_has_cheltenham, Title_has_solaris, Title_has_laptop, Title_has_executive, Title_has_competitive, Title_has_suffolk, Title_has_oxford, Title_has_interim, Title_has_birmingham, Title_has_mysql, Title_has_web, Title_has_equipment, Title_has_aberdeenshire, Title_has_residential, Title_has_workers, Title_has_improvement, Title_has_adoption, Title_has_treatment, Title_has_east, Title_has_rgn, Title_has_bioanalysis, Title_has_sussex, Title_has_photocopier, Title_has_test, Title_has_venues, Title_has_fortune, Title_has_carers, Title_has_projects, Title_has_appsense, Title_has_teeside, Title_has_d, Title_has_server, Title_has_communications, Title_has_officer, Title_has_night, Title_has_security, Title_has_disorder, Title_has_cisco, Title_has_motor, Title_has_people, Title_has_telesales, Title_has_home, Title_has_employment, Title_has_brent, Title_has_technologist, Title_has_lead, Title_has_daytime, Title_has_critical, Title_has_cnc, Title_has_leader, Title_has_t, Title_has_conference, Title_has_eating, Title_has_ba, Title_has_business, Title_has_marketing, Title_has_tda, Title_has_warwickshire, Title_has_volkswagen, Title_has_pressure, Title_has_journeyman, Title_has_newmarket, Title_has_pv, Title_has_manufacturing, Title_has_mssql, Title_has_counties, Title_has_stage, Title_has_on, Title_has_package, Title_has_of, Title_has_shipping, Title_has_messaging, Title_has_or, Title_has_software, Title_has_metalworker, Title_has_repair, Title_has_within, Title_has_functional, Title_has_servers, Title_has_locum, Title_has_accounts, Title_has_operator, Title_has_england, Title_has_wan, Title_has_networking, Title_has_area, Title_has_recruiter, Title_has_apps, Title_has_divisional, Title_has_accountant, Title_has_clinical, Title_has_wordpress, Title_has_income, Title_has_head, Title_has_north, Title_has_fpga, Title_has_hr, Title_has_registered, Title_has_vehicle, Title_has_delivery, Title_has_solar, Title_has_flexible, Title_has_technician, Title_has_line, Title_has_junior, Title_has_waste, Title_has_temp, Title_has_urgent, Title_has_asse, Title_has_inside, Title_has_j, Title_has_fitter, Title_has_mth, Title_has_uk, Title_has_fabricator, Title_has_blogs, Title_has_firm, Title_has_supervisor, Title_has_zend, Title_has_general, Title_has_coordinator, Title_has_engineering, Title_has_ssrs, Title_has_telecoms, Title_has_accounting, Title_has_programmer, Title_has_berkshire, Title_has_stake, Title_has_storage, Title_has_graduate, Title_has_field, Title_has_nav, Title_has_branch, Title_has_digital, Title_has_warehouse, Title_has_chemist, Title_has_mechanical, Title_has_kben, Title_has_sql, Title_has_3months, Title_has_building, Title_has_for, Title_has_muswell, Title_has_required, Title_has_gloucestershire, Title_has_time, Title_has_oracle, Title_has_brokers, LocationNormalized_c, Category_c, Company_c, SourceName_c], dtype=object)"
       ]
      }
     ],
     "prompt_number": 9
    },
    {
     "cell_type": "code",
     "collapsed": false,
     "input": [
      "foo_train = train.copy()"
     ],
     "language": "python",
     "metadata": {},
     "outputs": [],
     "prompt_number": 12
    },
    {
     "cell_type": "code",
     "collapsed": false,
     "input": [
      "del_list = [\"Id\", \"Title\", \"FullDescription\", \"LocationRaw\", \"LocationNormalized\", \"ContractType\", \"ContractTime\", \"Company\", \"Category\", \"SalaryRaw\", \"SourceName\"]\n",
      "for name in del_list:\n",
      "    del foo_train[name]\n"
     ],
     "language": "python",
     "metadata": {},
     "outputs": [],
     "prompt_number": 20
    },
    {
     "cell_type": "code",
     "collapsed": false,
     "input": [],
     "language": "python",
     "metadata": {},
     "outputs": [],
     "prompt_number": 18
    },
    {
     "cell_type": "code",
     "collapsed": false,
     "input": [
      "foo_train[\"Id\"] = None"
     ],
     "language": "python",
     "metadata": {},
     "outputs": [],
     "prompt_number": 19
    },
    {
     "cell_type": "code",
     "collapsed": false,
     "input": [
      "foo_train.columns"
     ],
     "language": "python",
     "metadata": {},
     "outputs": [
      {
       "output_type": "pyout",
       "prompt_number": 15,
       "text": [
        "Index([Title, FullDescription, LocationRaw, LocationNormalized, ContractType, ContractTime, Company, Category, SalaryRaw, SalaryNormalized, SourceName, Title_has_shop, Title_has_chinese, Title_has_sales, Title_has_facilities, Title_has_manager, Title_has_nursery, Title_has_gb, Title_has_ror, Title_has_pts, Title_has_disability, Title_has_foster, Title_has_teaching, Title_has_woman, Title_has_risk, Title_has_presales, Title_has_regional, Title_has_vere, Title_has_voip, Title_has_wakefield, Title_has_p, Title_has_planning, Title_has_excellence, Title_has_team, Title_has_manchester, Title_has_obesity, Title_has_ict, Title_has_logistics, Title_has_walsall, Title_has_waking, Title_has_chef, Title_has_recruitment, Title_has_negotiator, Title_has_design, Title_has_lawyer, Title_has_assembly, Title_has_dynamics, Title_has_investment, Title_has_bluc, Title_has_specification, Title_has_cirencester, Title_has_scaffolder, Title_has_ssis, Title_has_toolpusher, Title_has_capital, Title_has_new, Title_has_nurse, Title_has_staff, Title_has_multinational, Title_has_specialist, Title_has_full, Title_has_ms, Title_has_hempstead, Title_has_clerk, Title_has_commercial, Title_has_french, Title_has_water, Title_has_conveyancer, Title_has_protection, Title_has_leeds, Title_has_cork, Title_has_teacher, Title_has_technical, Title_has_shift, Title_has_k, Title_has_35, Title_has_credit, Title_has_products, Title_has_christchurch, Title_has_social, Title_has_welder, Title_has_exeter, Title_has_trainer, Title_has_gastro, Title_has_secure, Title_has_deputy, Title_has_rtos, Title_has_lending, Title_has_unix, Title_has_watford, Title_has_trained, Title_has_trainee, Title_has_market, Title_has_hotels, Title_has_wanted, Title_has_from, Title_has_marketers, Title_has_hospital, Title_has_governance, Title_has_perl, Title_has_live, Title_has_6, Title_has_assessor, Title_has_revolutionary, Title_has_curriculum, Title_has_award, Title_has_it, Title_has_admissions, Title_has_department, Title_has_labourer, Title_has_adult, Title_has_excellent, Title_has_underwriter, Title_has_maunfacturing, Title_has_customer, Title_has_account, Title_has_car, Title_has_work, Title_has_mi, Title_has_flagship, Title_has_sous, Title_has_mechanic, Title_has_keynes, Title_has_history, Title_has_patrol, Title_has_nursing, Title_has_estate, Title_has_process, Title_has_expanding, Title_has_household, Title_has_optician, Title_has_high, Title_has_surveyor, Title_has_sharp, Title_has_swedish, Title_has_end, Title_has_travel, Title_has_sharepoint, Title_has_hampshire, Title_has_chemical, Title_has_css, Title_has_stock, Title_has_edinburgh, Title_has_administrator, Title_has_designer, Title_has_pqe, Title_has_hemel, Title_has_pigs, Title_has_data, Title_has_fm, Title_has_a, Title_has_tutor, Title_has_commodity, Title_has_think, Title_has_chief, Title_has_writing, Title_has_operations, Title_has_over, Title_has_trade, Title_has_scientist, Title_has_london, Title_has_committee, Title_has_installer, Title_has_doncaster, Title_has_operative, Title_has_developer, Title_has_epos, Title_has_position, Title_has_rosette, Title_has_wrexham, Title_has_winning, Title_has_production, Title_has_systems, Title_has_policy, Title_has_finance, Title_has_practice, Title_has_noc, Title_has_band, Title_has_qualified, Title_has_front, Title_has_bank, Title_has_articles, Title_has_wirral, Title_has_drop, Title_has_hepatology, Title_has_financial, Title_has_weight, Title_has_ee, Title_has_house, Title_has_energy, Title_has_hard, Title_has_croydon, Title_has_trading, Title_has_year, Title_has_eu, Title_has_practitioner, Title_has_ew, Title_has_event, Title_has_category, Title_has_network, Title_has_electronic, Title_has_dsp, Title_has_research, Title_has_content, Title_has_holborn, Title_has_fte, Title_has_hill, Title_has_sme, Title_has_engineer, Title_has_integrated, Title_has_assurance, Title_has_hibernate, Title_has_ios, Title_has_payroll, Title_has_pub, Title_has_ajax, Title_has_advisor, Title_has_dorset, Title_has_marine, Title_has_care, Title_has_onsite, Title_has_benefits, Title_has_waiter, Title_has_atm, Title_has_days, Title_has_mvc, Title_has_ltd, Title_has_retail, Title_has_support, Title_has_south, Title_has_industrial, Title_has_shopper, Title_has_lightmid, Title_has_quality, Title_has_ecommerce, Title_has_londonsql, Title_has_management, Title_has_service, Title_has_rails, Title_has_2, Title_has_white, Title_has_scheme, Title_has_speaking, Title_has_solicitor, Title_has_part, Title_has_western, Title_has_milton, Title_has_older, Title_has_project, Title_has_matter, Title_has_architect, Title_has_store, Title_has_acquisition, Title_has_aspnet, Title_has_and, Title_has_physiotherapist, Title_has_fashion, Title_has_legionella, Title_has_receptionist, Title_has_speakers, Title_has_nights, Title_has_procurement, Title_has_hgv, Title_has_agency, Title_has_scotland, Title_has_mid, Title_has_reconciliations, Title_has_ricoh, Title_has_luxury, Title_has_online, Title_has_experienced, Title_has_roadside, Title_has_net, Title_has_services, Title_has_cleared, Title_has_class, Title_has_salary, Title_has_plumber, Title_has_mobile, Title_has_medical, Title_has_psychology, Title_has_mri, Title_has_enterprise, Title_has_senior, Title_has_derbyshire, Title_has_quantity, Title_has_sector, Title_has_emerging, Title_has_german, Title_has_vacancy, Title_has_comany, Title_has_therapist, Title_has_postdoctoral, Title_has_solutions, Title_has_networks, Title_has_setter, Title_has_litigation, Title_has_implementation, Title_has_controls, Title_has_analyst, Title_has_equity, Title_has_contracts, Title_has_assistant, Title_has_de, Title_has_multiskilled, Title_has_dv, Title_has_buckinghamshire, Title_has_tips, Title_has_bau, Title_has_embedded, Title_has_uncapped, Title_has_partie, Title_has_experience, Title_has_x, Title_has_intelligence, Title_has_national, Title_has_inhouse, Title_has_brasserie, Title_has_tankered, Title_has_best, Title_has_techniques, Title_has_michelin, Title_has_expert, Title_has_rail, Title_has_assistants, Title_has_occupational, Title_has_reading, Title_has_glasgow, Title_has_available, Title_has_datacentre, Title_has_jobs, Title_has_dispensing, Title_has_physicist, Title_has_job, Title_has_tooling, Title_has_key, Title_has_article, Title_has_hours, Title_has_c, Title_has_planner, Title_has_restaurant, Title_has_admin, Title_has_region, Title_has_contract, Title_has_s, Title_has_bristol, Title_has_operating, Title_has_allowance, Title_has_station, Title_has_co, Title_has_fostering, Title_has_community, Title_has_2nd, Title_has_hygiene, Title_has_learning, Title_has_groundworker, Title_has_yorkshire, Title_has_cw, Title_has_swindon, Title_has_pr, Title_has_bathroom, Title_has_java, Title_has_west, Title_has_strategy, Title_has_commission, Title_has_workshop, Title_has_maintenance, Title_has_basic, Title_has_screener, Title_has_territory, Title_has_website, Title_has_liverpool, Title_has_worker, Title_has_ote, Title_has_catering, Title_has_tractortrailer, Title_has_controller, Title_has_representative, Title_has_child, Title_has_fmcg, Title_has_ruby, Title_has_volunteer, Title_has_multi, Title_has_consultant, Title_has_mpls, Title_has_engineers, Title_has_ip, Title_has_is, Title_has_site, Title_has_maidstone, Title_has_in, Title_has_partner, Title_has_arabic, Title_has_technology, Title_has_cuisine, Title_has_basildon, Title_has_parte, Title_has_media, Title_has_administration, Title_has_member, Title_has_html, Title_has_events, Title_has_development, Title_has_independent, Title_has_temporary, Title_has_juniper, Title_has_reporting, Title_has_driver, Title_has_automation, Title_has_director, Title_has_ccip, Title_has_user, Title_has_camberwell, Title_has_php, Title_has_tsql, Title_has_audit, Title_has_peterborough, Title_has_framework, Title_has_person, Title_has_nordic, Title_has_guernsey, Title_has_english, Title_has_entry, Title_has_the, Title_has_blandford, Title_has_corporate, Title_has_cdp, Title_has_cheltenham, Title_has_solaris, Title_has_laptop, Title_has_executive, Title_has_competitive, Title_has_suffolk, Title_has_oxford, Title_has_interim, Title_has_birmingham, Title_has_mysql, Title_has_web, Title_has_equipment, Title_has_aberdeenshire, Title_has_residential, Title_has_workers, Title_has_improvement, Title_has_adoption, Title_has_treatment, Title_has_east, Title_has_rgn, Title_has_bioanalysis, Title_has_sussex, Title_has_photocopier, Title_has_test, Title_has_venues, Title_has_fortune, Title_has_carers, Title_has_projects, Title_has_appsense, Title_has_teeside, Title_has_d, Title_has_server, Title_has_communications, Title_has_officer, Title_has_night, Title_has_security, Title_has_disorder, Title_has_cisco, Title_has_motor, Title_has_people, Title_has_telesales, Title_has_home, Title_has_employment, Title_has_brent, Title_has_technologist, Title_has_lead, Title_has_daytime, Title_has_critical, Title_has_cnc, Title_has_leader, Title_has_t, Title_has_conference, Title_has_eating, Title_has_ba, Title_has_business, Title_has_marketing, Title_has_tda, Title_has_warwickshire, Title_has_volkswagen, Title_has_pressure, Title_has_journeyman, Title_has_newmarket, Title_has_pv, Title_has_manufacturing, Title_has_mssql, Title_has_counties, Title_has_stage, Title_has_on, Title_has_package, Title_has_of, Title_has_shipping, Title_has_messaging, Title_has_or, Title_has_software, Title_has_metalworker, Title_has_repair, Title_has_within, Title_has_functional, Title_has_servers, Title_has_locum, Title_has_accounts, Title_has_operator, Title_has_england, Title_has_wan, Title_has_networking, Title_has_area, Title_has_recruiter, Title_has_apps, Title_has_divisional, Title_has_accountant, Title_has_clinical, Title_has_wordpress, Title_has_income, Title_has_head, Title_has_north, Title_has_fpga, Title_has_hr, Title_has_registered, Title_has_vehicle, Title_has_delivery, Title_has_solar, Title_has_flexible, Title_has_technician, Title_has_line, Title_has_junior, Title_has_waste, Title_has_temp, Title_has_urgent, Title_has_asse, Title_has_inside, Title_has_j, Title_has_fitter, Title_has_mth, Title_has_uk, Title_has_fabricator, Title_has_blogs, Title_has_firm, Title_has_supervisor, Title_has_zend, Title_has_general, Title_has_coordinator, Title_has_engineering, Title_has_ssrs, Title_has_telecoms, Title_has_accounting, Title_has_programmer, Title_has_berkshire, Title_has_stake, Title_has_storage, Title_has_graduate, Title_has_field, Title_has_nav, Title_has_branch, Title_has_digital, Title_has_warehouse, Title_has_chemist, Title_has_mechanical, Title_has_kben, Title_has_sql, Title_has_3months, Title_has_building, Title_has_for, Title_has_muswell, Title_has_required, Title_has_gloucestershire, Title_has_time, Title_has_oracle, Title_has_brokers, LocationNormalized_c, Category_c, Company_c, SourceName_c], dtype=object)"
       ]
      }
     ],
     "prompt_number": 15
    },
    {
     "cell_type": "code",
     "collapsed": false,
     "input": [],
     "language": "python",
     "metadata": {},
     "outputs": []
    }
   ],
   "metadata": {}
  }
 ]
}